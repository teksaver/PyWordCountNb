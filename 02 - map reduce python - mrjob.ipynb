{
 "cells": [
  {
   "cell_type": "markdown",
   "metadata": {},
   "source": [
    "# Map / Reduce en python avec mrjob\n",
    "\n",
    "## Prérequis : installation de mrjob avec Anaconda\n",
    "\n",
    "### Ajout de conda-forge comme canal de distribution\n",
    "\n",
    "Dans le navigateur Anaconda, \n",
    "\n",
    "1. cliquer sur `Channels` puis `Add`.\n",
    "2. Dans la boite de dialogue, saisir `conda-forge` puis valider.\n",
    "3. Rafraichir l'index en cliquant sur le bouton `Update index...`. \n",
    "\n",
    "Alternativement, en ligne de commande, selon la [documentation](https://conda-forge.org/) :\n",
    "\n",
    "```\n",
    "conda config --add channels conda-forge\n",
    "conda config --set channel_priority strict\n",
    "conda install <package-name> \n",
    "```\n",
    "\n",
    "### Installation de mr-job\n",
    "\n",
    "Dans la boite de recherche à côté du bouton `Update index...` saisir `mrjob` puis valider.\n",
    "\n",
    "Alternativement, en ligne de commande, saisir `conda install -c conda-forge mrjob`\n",
    "\n"
   ]
  },
  {
   "cell_type": "code",
   "execution_count": 4,
   "metadata": {},
   "outputs": [
    {
     "name": "stdout",
     "output_type": "stream",
     "text": [
      "Writing wordcount.py\n"
     ]
    }
   ],
   "source": [
    "%%file wordcount.py\n",
    "from mrjob.job import MRJob\n",
    "\n",
    "class ComptageDesMots(MRJob):\n",
    "\n",
    "    def mapper(self, _, ligne):\n",
    "        ligneNettoyee = ligne.translate(str.maketrans('', '', string.punctuation))\n",
    "        listeDeMots=ligneNettoyee.split()\n",
    "        for mot in listeDeMots:\n",
    "            yield mot, 1\n",
    "    \n",
    "    def reducer(self, key, values):\n",
    "        yield key, sum(values)"
   ]
  },
  {
   "cell_type": "code",
   "execution_count": 10,
   "metadata": {},
   "outputs": [
    {
     "name": "stderr",
     "output_type": "stream",
     "text": [
      "No configs specified for inline runner\n"
     ]
    },
    {
     "name": "stdout",
     "output_type": "stream",
     "text": [
      "words 131\n",
      "lines 18\n",
      "chars 673\n"
     ]
    }
   ],
   "source": [
    "import wordcount\n",
    "#reload(wordcount)\n",
    "\n",
    "mr_job = wordcount.MRWordFrequencyCount(args=['Data/Le Corbeau et le Renard.txt'])\n",
    "with mr_job.make_runner() as runner:\n",
    "     runner.run()\n",
    "     for key, value in mr_job.parse_output(runner.cat_output()):\n",
    "        print(key, value)"
   ]
  },
  {
   "cell_type": "code",
   "execution_count": null,
   "metadata": {},
   "outputs": [],
   "source": []
  }
 ],
 "metadata": {
  "kernelspec": {
   "display_name": "Python 3",
   "language": "python",
   "name": "python3"
  },
  "language_info": {
   "codemirror_mode": {
    "name": "ipython",
    "version": 3
   },
   "file_extension": ".py",
   "mimetype": "text/x-python",
   "name": "python",
   "nbconvert_exporter": "python",
   "pygments_lexer": "ipython3",
   "version": "3.7.6"
  }
 },
 "nbformat": 4,
 "nbformat_minor": 4
}
