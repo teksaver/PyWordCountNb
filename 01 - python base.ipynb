{
 "cells": [
  {
   "cell_type": "markdown",
   "metadata": {},
   "source": [
    "# Première version : comptage du nombre de mots en Python simple\n",
    "\n",
    "## Vérification de la version de python\n",
    "\n",
    "Python a connu une transition douloureuse entre la version 2 et la version 3.. vérifions que nous avons bien accès à la bonne version !\n",
    "\n",
    "Pour exécuter le code d'une cellule, cliquez dedans et cliquez sur *Exécuter*\n",
    "\n",
    "Vous pouvez également utiliser le raccourci clavier *shift + Entrée*"
   ]
  },
  {
   "cell_type": "code",
   "execution_count": 3,
   "metadata": {},
   "outputs": [
    {
     "name": "stdout",
     "output_type": "stream",
     "text": [
      "Ça fonctionne ! Nous utilisons 3.7.6 (default, Jan  8 2020, 13:42:34) \n",
      "[Clang 4.0.1 (tags/RELEASE_401/final)]\n"
     ]
    }
   ],
   "source": [
    "import sys\n",
    "print(f'Ça fonctionne ! Nous utilisons Python {sys.version}')"
   ]
  },
  {
   "cell_type": "markdown",
   "metadata": {},
   "source": [
    "Si le code s'affiche sans erreur, vous utilisez bien Python 3.6 ou supérieur. En cas de problème, téléchargez et installez [la dernière version d'Anaconda](https://www.anaconda.com/products/individual). Assurez-vous de bien télécharger la version pour Python 3.x correspondant à votre ordinateur (Linux, Mac ou Windows).\n",
    "\n",
    "## Ouverture et affichage du fichier\n",
    "\n",
    "L'ouverture d'un fichier consiste à le rendre ses données disponibles pour le programme. Cela s'effectue en utilisant une fonction de la librairie standard, à laquelle on fournit l'emplacement du fichier.\n",
    "\n",
    "Pour trouver de quelle fonction il s'agit, rendez-vous sur la documentation sur les entrées-sorties ! https://docs.python.org/3.7/tutorial/inputoutput.html\n",
    "\n",
    "Avez-vous repéré la fonction *open* ? Nous y trouvons également les fonctions permettant de lire et afficher le contenu : *read* et *print* :"
   ]
  },
  {
   "cell_type": "code",
   "execution_count": 17,
   "metadata": {},
   "outputs": [
    {
     "name": "stdout",
     "output_type": "stream",
     "text": [
      "Maître Corbeau, sur un arbre perché,\n",
      "Tenait en son bec un fromage.\n",
      "Maître Renard, par l'odeur alléché,\n",
      "Lui tint à peu près ce langage :\n",
      "Et bonjour, Monsieur du Corbeau.\n",
      "Que vous êtes joli ! que vous me semblez beau !\n",
      "Sans mentir, si votre ramage\n",
      "Se rapporte à votre plumage,\n",
      "Vous êtes le Phénix des hôtes de ces bois.\n",
      "À ces mots, le Corbeau ne se sent pas de joie ;\n",
      "Et pour montrer sa belle voix,\n",
      "Il ouvre un large bec, laisse tomber sa proie.\n",
      "Le Renard s'en saisit, et dit : Mon bon Monsieur,\n",
      "Apprenez que tout flatteur\n",
      "Vit aux dépens de celui qui l'écoute.\n",
      "Cette leçon vaut bien un fromage, sans doute.\n",
      "Le Corbeau honteux et confus\n",
      "Jura, mais un peu tard, qu'on ne l'y prendrait plus.\n"
     ]
    }
   ],
   "source": [
    "with open('Data/Le Corbeau et le Renard.txt') as monFichier:\n",
    "    toutLeFichier=monFichier.read()\n",
    "    print(toutLeFichier)\n"
   ]
  },
  {
   "cell_type": "markdown",
   "metadata": {},
   "source": [
    "\n",
    "\n",
    "Que sont *monFichier* et *toutLeFichier* ?\n",
    "\n",
    "Il s'agit de *variables*. Selon [Wikibooks](https://fr.wikibooks.org/wiki/Programmation_Python/Variables) : \n",
    "\n",
    "```\n",
    "Une variable est un espace mémoire dans lequel il est possible de mettre une valeur. Par exemple, si en français je dis x est égal à 1, j'utilise la variable dont le nom est x pour lui fixer la valeur 1. Pour faire la même chose en Python, je note simplement : x = 1.\n",
    "\n",
    "Cette opération est appelée \"affectation\" (ou \"assignation\"), et consiste à stocker une valeur en mémoire vive de l'ordinateur. On dit donc que l'on procède à l'affectation de la variable \"x\" avec la valeur \"1\".\n",
    "```\n"
   ]
  },
  {
   "cell_type": "code",
   "execution_count": null,
   "metadata": {},
   "outputs": [],
   "source": []
  }
 ],
 "metadata": {
  "kernelspec": {
   "display_name": "Python 3",
   "language": "python",
   "name": "python3"
  },
  "language_info": {
   "codemirror_mode": {
    "name": "ipython",
    "version": 3
   },
   "file_extension": ".py",
   "mimetype": "text/x-python",
   "name": "python",
   "nbconvert_exporter": "python",
   "pygments_lexer": "ipython3",
   "version": "3.7.6"
  }
 },
 "nbformat": 4,
 "nbformat_minor": 4
}
